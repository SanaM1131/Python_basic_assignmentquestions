{
  "nbformat": 4,
  "nbformat_minor": 0,
  "metadata": {
    "colab": {
      "provenance": []
    },
    "kernelspec": {
      "name": "python3",
      "display_name": "Python 3"
    },
    "language_info": {
      "name": "python"
    }
  },
  "cells": [
    {
      "cell_type": "markdown",
      "source": [
        "** Topic: Python Basic Variable **"
      ],
      "metadata": {
        "id": "KhhZBe9jl-o2"
      }
    },
    {
      "cell_type": "markdown",
      "source": [
        "1.Declare two variables, 'x' and 'y', and assign them integer values. Swap the Values of these variables without using any temporary variable."
      ],
      "metadata": {
        "id": "2Dj1TiwVmQWD"
      }
    },
    {
      "cell_type": "code",
      "source": [
        "x, y = 24, 85\n",
        "x, y = y, x\n",
        "print(x, y)"
      ],
      "metadata": {
        "colab": {
          "base_uri": "https://localhost:8080/"
        },
        "id": "FVm7J30EmvHQ",
        "outputId": "b0c2ff27-e711-4341-8c1e-9b65a41806d0"
      },
      "execution_count": 1,
      "outputs": [
        {
          "output_type": "stream",
          "name": "stdout",
          "text": [
            "85 24\n"
          ]
        }
      ]
    },
    {
      "cell_type": "markdown",
      "source": [
        "2.Create a program that calculates the area of a rectangle. Take the length and\n",
        "width as inputs from the user and store them in variables. Calculate and\n",
        "display the area."
      ],
      "metadata": {
        "id": "w74XFz5Em_TY"
      }
    },
    {
      "cell_type": "code",
      "source": [
        "length = float(input(\"Enter the length of the rectangle: \"))\n",
        "width = float(input(\"Enter the width of the rectangle: \"))\n",
        "area = length * width\n",
        "print(\"The area of the rectangle is:\", area)"
      ],
      "metadata": {
        "colab": {
          "base_uri": "https://localhost:8080/"
        },
        "id": "5MKevNkZnisT",
        "outputId": "ded635d7-4bbd-4dc4-fb4b-16dd8efe336c"
      },
      "execution_count": 2,
      "outputs": [
        {
          "output_type": "stream",
          "name": "stdout",
          "text": [
            "Enter the length of the rectangle: 34\n",
            "Enter the width of the rectangle: 23.3\n",
            "The area of the rectangle is: 792.2\n"
          ]
        }
      ]
    },
    {
      "cell_type": "markdown",
      "source": [
        "3. Write a Python program that converts temperatures from Celsius to\n",
        "Fahrenheit. Take the temperature in Celsius as input, store it in a variable,\n",
        "convert it to Fahrenheit, and display the result."
      ],
      "metadata": {
        "id": "_1aXBXGPoD_6"
      }
    },
    {
      "cell_type": "code",
      "source": [
        "celsius = float(input(\"Enter the temprature in celsius : \"))\n",
        "fahrenheit = (celsius * 9/5) +32\n",
        "print(\"The temprature in fahrenheit is :\",fahrenheit)"
      ],
      "metadata": {
        "colab": {
          "base_uri": "https://localhost:8080/"
        },
        "id": "d7_2oQ0ToCvL",
        "outputId": "e62d212d-fbc8-46da-9e71-c462b41bf944"
      },
      "execution_count": 3,
      "outputs": [
        {
          "output_type": "stream",
          "name": "stdout",
          "text": [
            "Enter the temprature in celsius : 59\n",
            "The temprature in fahrenheit is : 138.2\n"
          ]
        }
      ]
    },
    {
      "cell_type": "markdown",
      "source": [
        "** Topic : String Based Questions **"
      ],
      "metadata": {
        "id": "m1MFj9u2opVg"
      }
    },
    {
      "cell_type": "markdown",
      "source": [
        "1. Write a Python program that takes a string as input and prints the length of\n",
        "the string.\n"
      ],
      "metadata": {
        "id": "G10ZYmtLozMA"
      }
    },
    {
      "cell_type": "code",
      "source": [
        "string = input(\"Enter a string : \")\n",
        "print(len(string))"
      ],
      "metadata": {
        "colab": {
          "base_uri": "https://localhost:8080/"
        },
        "id": "Ridk5LFoo_jF",
        "outputId": "f21c39ef-e2f6-4ebc-b827-0d399f075fe9"
      },
      "execution_count": 4,
      "outputs": [
        {
          "output_type": "stream",
          "name": "stdout",
          "text": [
            "Enter a string : sana\n",
            "4\n"
          ]
        }
      ]
    },
    {
      "cell_type": "markdown",
      "source": [
        "2. Create a program that takes a sentence from the user and counts the number\n",
        "of vowels (a, e, i, o, u) in the string.\n"
      ],
      "metadata": {
        "id": "k9h4TmaZpTzQ"
      }
    },
    {
      "cell_type": "code",
      "source": [
        "sentence = input(\"Enter a sentence : \")\n",
        "\n",
        "a_vowel = sentence.count('a')\n",
        "e_vowel = sentence.count('e')\n",
        "i_vowel = sentence.count('i')\n",
        "o_vowel = sentence.count('o')\n",
        "u_vowel = sentence.count('u')\n",
        "\n",
        "total_vowels = a_vowel + e_vowel + i_vowel + o_vowel + u_vowel\n",
        "print(\"The number of vowels in the sentence is :\",total_vowels)\n"
      ],
      "metadata": {
        "colab": {
          "base_uri": "https://localhost:8080/"
        },
        "id": "j1LDABM_pYHf",
        "outputId": "33b5e982-8b53-4703-b43a-96a95c4a26ae"
      },
      "execution_count": 6,
      "outputs": [
        {
          "output_type": "stream",
          "name": "stdout",
          "text": [
            "Enter a sentence : mohammed suleman\n",
            "The number of vowels in the sentence is : 6\n"
          ]
        }
      ]
    },
    {
      "cell_type": "markdown",
      "source": [
        "3. Given a string, reverse the order of characters using string slicing and print\n",
        "the reversed string.\n"
      ],
      "metadata": {
        "id": "S4HOd3r0qHaD"
      }
    },
    {
      "cell_type": "code",
      "source": [
        "text = input(\"Enter a string : \")\n",
        "print(text[::-1])"
      ],
      "metadata": {
        "colab": {
          "base_uri": "https://localhost:8080/"
        },
        "id": "Q-t2kPH_qLNi",
        "outputId": "950ab129-3388-4527-f8d7-2f0a4df9054b"
      },
      "execution_count": 7,
      "outputs": [
        {
          "output_type": "stream",
          "name": "stdout",
          "text": [
            "Enter a string : i am new learner\n",
            "renrael wen ma i\n"
          ]
        }
      ]
    },
    {
      "cell_type": "markdown",
      "source": [
        "4. Write a program that takes a string as input and checks if it is a palindrome\n",
        "(reads the same forwards and backwards).\n"
      ],
      "metadata": {
        "id": "NuCUNjmMqd5W"
      }
    },
    {
      "cell_type": "code",
      "source": [
        "text = input(\"Enter a string : \")\n",
        "if text == text[::-1]:\n",
        "  print(\"The string is a palindrome\")\n",
        "else:\n",
        "  print(\"The string is not a palindrome\")"
      ],
      "metadata": {
        "colab": {
          "base_uri": "https://localhost:8080/"
        },
        "id": "fPXoYOqaqhzb",
        "outputId": "614096bd-0562-43b8-dc8a-0de1c800b1c0"
      },
      "execution_count": 9,
      "outputs": [
        {
          "output_type": "stream",
          "name": "stdout",
          "text": [
            "Enter a string : sana\n",
            "The string is not a palindrome\n"
          ]
        }
      ]
    },
    {
      "cell_type": "code",
      "source": [
        "text = input(\"Enter a string : \")\n",
        "if text == text[::-1]:\n",
        "  print(\"The string is a palindrome\")\n",
        "else:\n",
        "  print(\"The string is not a palindrome\")"
      ],
      "metadata": {
        "colab": {
          "base_uri": "https://localhost:8080/"
        },
        "id": "05VRPK1qrcYk",
        "outputId": "00b5b5e9-0e59-41f9-f34d-650d1afaee15"
      },
      "execution_count": 10,
      "outputs": [
        {
          "output_type": "stream",
          "name": "stdout",
          "text": [
            "Enter a string : gadag\n",
            "The string is a palindrome\n"
          ]
        }
      ]
    },
    {
      "cell_type": "markdown",
      "source": [
        "5. Create a program that takes a string as input and removes all the spaces from\n",
        "it. Print the modified string without spaces."
      ],
      "metadata": {
        "id": "oIIRUanErhLE"
      }
    },
    {
      "cell_type": "code",
      "source": [
        "string = input(\"Enter a String : \")\n",
        "new_string = string.replace(\" \", \"\")\n",
        "print(\"Modified String : \",new_string)"
      ],
      "metadata": {
        "colab": {
          "base_uri": "https://localhost:8080/"
        },
        "id": "t7HouynXrmy6",
        "outputId": "75fa2dd4-71ec-4188-f21c-af7327474862"
      },
      "execution_count": 11,
      "outputs": [
        {
          "output_type": "stream",
          "name": "stdout",
          "text": [
            "Enter a String : sana mulla\n",
            "Modified String :  sanamulla\n"
          ]
        }
      ]
    }
  ]
}